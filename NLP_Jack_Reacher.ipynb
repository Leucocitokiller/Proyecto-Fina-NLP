{
  "cells": [
    {
      "cell_type": "markdown",
      "metadata": {
        "id": "view-in-github",
        "colab_type": "text"
      },
      "source": [
        "<a href=\"https://colab.research.google.com/github/Leucocitokiller/Proyecto-Fina-NLP/blob/main/NLP_Jack_Reacher.ipynb\" target=\"_parent\"><img src=\"https://colab.research.google.com/assets/colab-badge.svg\" alt=\"Open In Colab\"/></a>"
      ]
    },
    {
      "cell_type": "markdown",
      "id": "f7624ac4",
      "metadata": {
        "id": "f7624ac4"
      },
      "source": [
        "# 📚 Análisis NLP sobre texto clásico (Don Quijote)\n",
        "Este notebook realiza preprocesamiento y análisis de texto usando múltiples técnicas de NLP aplicadas sobre el texto de 'Don Quijote' obtenido desde el Proyecto Gutenberg."
      ]
    },
    {
      "cell_type": "code",
      "source": [
        "import nltk"
      ],
      "metadata": {
        "id": "Zsvhqb1L4LUm"
      },
      "id": "Zsvhqb1L4LUm",
      "execution_count": null,
      "outputs": []
    },
    {
      "cell_type": "code",
      "execution_count": null,
      "id": "a7818e3f",
      "metadata": {
        "id": "a7818e3f"
      },
      "outputs": [],
      "source": [
        "# 📥 1. Cargar texto desde URL\n",
        "import requests\n",
        "\n",
        "url = 'https://www.gutenberg.org/files/2000/2000-0.txt'\n",
        "texto = requests.get(url).text\n",
        "print(texto[:1000])  # Mostrar los primeros 1000 caracteres\n"
      ]
    },
    {
      "cell_type": "code",
      "execution_count": null,
      "id": "a04098ce",
      "metadata": {
        "id": "a04098ce"
      },
      "outputs": [],
      "source": [
        "# 🧠 2. Procesamiento NLP con spaCy\n",
        "import spacy\n",
        "from spacy.lang.es.stop_words import STOP_WORDS\n",
        "\n",
        "# Download the model if it's not installed\n",
        "!python -m spacy download es_core_news_sm\n",
        "\n",
        "nlp = spacy.load(\"es_core_news_sm\")\n",
        "\n",
        "# Increase the max_length limit\n",
        "nlp.max_length = len(texto)  # Set to the length of your text\n",
        "\n",
        "doc = nlp(texto)\n"
      ]
    },
    {
      "cell_type": "code",
      "execution_count": null,
      "id": "cc39a0f1",
      "metadata": {
        "id": "cc39a0f1"
      },
      "outputs": [],
      "source": [
        "# 🧹 3. Lematización, remoción de stopwords y puntuación\n",
        "tokens_limpios = [token.lemma_.lower() for token in doc\n",
        "                  if token.is_alpha and token.lemma_.lower() not in STOP_WORDS]\n",
        "print(tokens_limpios[:30])\n"
      ]
    },
    {
      "cell_type": "code",
      "execution_count": null,
      "id": "e120f07c",
      "metadata": {
        "id": "e120f07c"
      },
      "outputs": [],
      "source": [
        "# 🔠 4. POS Tagging (etiquetado gramatical)\n",
        "for token in doc[:10]:\n",
        "    print(f\"{token.text} -> {token.pos_}\")\n"
      ]
    },
    {
      "cell_type": "code",
      "execution_count": null,
      "id": "4c7f90ff",
      "metadata": {
        "id": "4c7f90ff"
      },
      "outputs": [],
      "source": [
        "# 🧾 5. Named Entity Recognition (NER)\n",
        "for ent in doc.ents[:10]:\n",
        "    print(f\"{ent.text} -> {ent.label_}\")\n"
      ]
    },
    {
      "cell_type": "code",
      "execution_count": null,
      "id": "a3376299",
      "metadata": {
        "id": "a3376299"
      },
      "outputs": [],
      "source": [
        "# 📊 6. Palabras más frecuentes\n",
        "from collections import Counter\n",
        "\n",
        "frecuencia = Counter(tokens_limpios).most_common(10)\n",
        "for palabra, freq in frecuencia:\n",
        "    print(f\"{palabra}: {freq}\")\n"
      ]
    },
    {
      "cell_type": "code",
      "execution_count": null,
      "id": "7451696d",
      "metadata": {
        "id": "7451696d"
      },
      "outputs": [],
      "source": [
        "# ☁️ 7. WordCloud\n",
        "from wordcloud import WordCloud\n",
        "import matplotlib.pyplot as plt\n",
        "\n",
        "wordcloud = WordCloud(width=800, height=400, background_color='white').generate(' '.join(tokens_limpios))\n",
        "plt.figure(figsize=(12, 6))\n",
        "plt.imshow(wordcloud, interpolation='bilinear')\n",
        "plt.axis(\"off\")\n",
        "plt.title(\"Word Cloud del texto\")\n",
        "plt.show()\n"
      ]
    },
    {
      "cell_type": "code",
      "execution_count": null,
      "id": "89959e82",
      "metadata": {
        "id": "89959e82"
      },
      "outputs": [],
      "source": [
        "# 📛 8. Bigramas más frecuentes\n",
        "bigrams = zip(tokens_limpios, tokens_limpios[1:])\n",
        "bigrams_freq = Counter(bigrams).most_common(10)\n",
        "\n",
        "for par, freq in bigrams_freq:\n",
        "    print(f\"{par}: {freq}\")\n"
      ]
    },
    {
      "cell_type": "code",
      "source": [
        "import seaborn as sns\n",
        "import pandas as pd\n",
        "\n",
        "palabras_df = pd.DataFrame(frecuencia, columns=['palabra', 'frecuencia'])\n",
        "sns.barplot(data=palabras_df, x='frecuencia', y='palabra')\n",
        "plt.title(\"Top 10 palabras más frecuentes\")\n",
        "plt.xlabel(\"Frecuencia\")\n",
        "plt.ylabel(\"Palabra\")\n",
        "plt.show()"
      ],
      "metadata": {
        "id": "wXmJS9e8p4Zt"
      },
      "id": "wXmJS9e8p4Zt",
      "execution_count": null,
      "outputs": []
    },
    {
      "cell_type": "code",
      "source": [
        "ents = [ent.text for ent in doc.ents if ent.label_ in ['PER', 'LOC', 'ORG']]\n",
        "ent_freq = Counter(ents).most_common(10)\n",
        "pd.DataFrame(ent_freq, columns=[\"Entidad\", \"Frecuencia\"]).plot.bar(x='Entidad', y='Frecuencia', legend=False)\n",
        "plt.title(\"Entidades nombradas más frecuentes\")\n",
        "plt.ylabel(\"Frecuencia\")\n",
        "plt.show()"
      ],
      "metadata": {
        "id": "YgUdLNePqIYN"
      },
      "id": "YgUdLNePqIYN",
      "execution_count": null,
      "outputs": []
    },
    {
      "cell_type": "code",
      "source": [
        "from collections import Counter\n",
        "pos_counts = Counter([token.pos_ for token in doc if token.is_alpha])\n",
        "sns.barplot(x=list(pos_counts.keys()), y=list(pos_counts.values()))\n",
        "plt.title(\"Distribución de categorías gramaticales\")\n",
        "plt.xlabel(\"POS\")\n",
        "plt.ylabel(\"Cantidad\")\n",
        "plt.show()\n"
      ],
      "metadata": {
        "id": "zW9p1JGOqQDO"
      },
      "id": "zW9p1JGOqQDO",
      "execution_count": null,
      "outputs": []
    },
    {
      "cell_type": "code",
      "source": [
        "import networkx as nx\n",
        "\n",
        "G = nx.Graph()\n",
        "for (w1, w2), freq in bigrams_freq:\n",
        "    G.add_edge(w1, w2, weight=freq)\n",
        "\n",
        "plt.figure(figsize=(10,6))\n",
        "nx.draw_networkx(G, with_labels=True, node_size=1500, font_size=10)\n",
        "plt.title(\"Bigramas más frecuentes\")\n",
        "plt.show()\n",
        "\n",
        "\n"
      ],
      "metadata": {
        "id": "HbGTdMf0qx62"
      },
      "id": "HbGTdMf0qx62",
      "execution_count": null,
      "outputs": []
    },
    {
      "cell_type": "code",
      "source": [
        "from textblob import TextBlob\n",
        "\n",
        "# Assuming 'tokens_limpios' from previous cell contains the processed text\n",
        "texto_procesado = ' '.join(tokens_limpios)  # Join the tokens into a string\n",
        "\n",
        "# Análisis de sentimientos por párrafo o línea\n",
        "sentimientos = []\n",
        "for frase in texto_procesado.split('\\n'):\n",
        "    blob = TextBlob(frase)\n",
        "    sentimientos.append((frase, blob.sentiment.polarity))\n",
        "\n",
        "# Mostrar las frases más positivas y más negativas\n",
        "sentimientos_ordenados = sorted(sentimientos, key=lambda x: x[1])\n",
        "print(\"Frase más negativa:\\n\", sentimientos_ordenados[0])\n",
        "print(\"\\nFrase más positiva:\\n\", sentimientos_ordenados[-1])\n"
      ],
      "metadata": {
        "id": "4lJgx5YtrfLM"
      },
      "id": "4lJgx5YtrfLM",
      "execution_count": null,
      "outputs": []
    },
    {
      "cell_type": "code",
      "source": [
        "\n",
        "from nltk.sentiment import SentimentIntensityAnalyzer\n",
        "import nltk\n",
        "nltk.download('vader_lexicon')\n",
        "\n",
        "sia = SentimentIntensityAnalyzer()\n",
        "\n",
        "sentimientos = []\n",
        "for frase in texto_procesado.split('\\n'):\n",
        "    score = sia.polarity_scores(frase)['compound']\n",
        "    sentimientos.append((frase, score))\n",
        "\n",
        "# Frases con sentimiento más marcado\n",
        "sentimientos_ordenados = sorted(sentimientos, key=lambda x: x[1])\n",
        "print(\"Frase más negativa:\\n\", sentimientos_ordenados[0])\n",
        "print(\"\\nFrase más positiva:\\n\", sentimientos_ordenados[-1])\n"
      ],
      "metadata": {
        "id": "PXIYU6y3r7HO"
      },
      "id": "PXIYU6y3r7HO",
      "execution_count": null,
      "outputs": []
    },
    {
      "cell_type": "code",
      "source": [
        "import matplotlib.pyplot as plt\n",
        "\n",
        "polaridades = [s[1] for s in sentimientos]\n",
        "plt.figure(figsize=(12, 4))\n",
        "plt.plot(polaridades)\n",
        "plt.title(\"Evolución del sentimiento a lo largo del texto\")\n",
        "plt.xlabel(\"Línea del texto\")\n",
        "plt.ylabel(\"Polaridad (-1 a 1)\")\n",
        "plt.show()\n"
      ],
      "metadata": {
        "id": "ipn8AB--sDBh"
      },
      "id": "ipn8AB--sDBh",
      "execution_count": null,
      "outputs": []
    },
    {
      "cell_type": "markdown",
      "source": [],
      "metadata": {
        "id": "CdgfV6oStFvj"
      },
      "id": "CdgfV6oStFvj"
    }
  ],
  "metadata": {
    "colab": {
      "provenance": [],
      "include_colab_link": true
    },
    "language_info": {
      "name": "python"
    },
    "kernelspec": {
      "name": "python3",
      "display_name": "Python 3"
    }
  },
  "nbformat": 4,
  "nbformat_minor": 5
}