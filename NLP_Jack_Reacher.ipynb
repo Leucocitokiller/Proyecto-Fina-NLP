{
  "cells": [
    {
      "cell_type": "markdown",
      "metadata": {
        "id": "view-in-github",
        "colab_type": "text"
      },
      "source": [
        "<a href=\"https://colab.research.google.com/github/Leucocitokiller/Proyecto-Fina-NLP/blob/main/NLP_Jack_Reacher.ipynb\" target=\"_parent\"><img src=\"https://colab.research.google.com/assets/colab-badge.svg\" alt=\"Open In Colab\"/></a>"
      ]
    },
    {
      "cell_type": "markdown",
      "id": "f7624ac4",
      "metadata": {
        "id": "f7624ac4"
      },
      "source": [
        "# 📚 Análisis NLP sobre texto de una novela."
      ]
    },
    {
      "cell_type": "code",
      "source": [
        "import requests\n",
        "\n",
        "# URL del archivo en GitHub (debe ser la URL raw)\n",
        "url = 'https://raw.githubusercontent.com/Leucocitokiller/Proyecto-Fina-NLP/refs/heads/main/Zona%20peligrosa%20-%20Lee%20Child.txt'\n",
        "\n",
        "# Descargar el contenido del archivo\n",
        "response = requests.get(url)\n",
        "\n",
        "# Verificar si la descarga fue exitosa\n",
        "if response.status_code == 200:\n",
        "    libro = response.text\n",
        "    print(\"Archivo cargado correctamente.\")\n",
        "else:\n",
        "    print(\"Hubo un error al cargar el archivo.\")\n",
        "\n",
        "# Mostrar las primeras 500 palabras del texto\n",
        "\n",
        "print(libro[:500])\n"
      ],
      "metadata": {
        "id": "FXzghY-_-Ife"
      },
      "id": "FXzghY-_-Ife",
      "execution_count": null,
      "outputs": []
    },
    {
      "cell_type": "markdown",
      "source": [
        "## 🧠 Técnicas de NLP aplicadas"
      ],
      "metadata": {
        "id": "quQ4TNPEC2s_"
      },
      "id": "quQ4TNPEC2s_"
    },
    {
      "cell_type": "markdown",
      "source": [
        "### **1. Tokenización**\n",
        "### **Qué es:**\n",
        "### Es el proceso de dividir un texto en unidades más pequeñas llamadas tokens (normalmente palabras).\n",
        "\n",
        "### **Para qué sirve:**\n",
        "### Permite analizar el texto palabra por palabra. Es el primer paso para casi todas las tareas de NLP.\n",
        "\n"
      ],
      "metadata": {
        "id": "kCsOBRF1C6zV"
      },
      "id": "kCsOBRF1C6zV"
    },
    {
      "cell_type": "code",
      "source": [
        "# Tokenización\n",
        "from nltk.tokenize import word_tokenize\n",
        "import nltk\n",
        "nltk.download('punkt')\n",
        "nltk.download('punkt_tab') # Download the missing punkt_tab dataset\n",
        "\n",
        "tokens = word_tokenize(libro)\n",
        "\n"
      ],
      "metadata": {
        "id": "sfO_VXXf-2jX"
      },
      "id": "sfO_VXXf-2jX",
      "execution_count": null,
      "outputs": []
    },
    {
      "cell_type": "code",
      "source": [],
      "metadata": {
        "id": "0-oUp_4fHYaa"
      },
      "id": "0-oUp_4fHYaa",
      "execution_count": null,
      "outputs": []
    },
    {
      "cell_type": "markdown",
      "source": [
        "## **2. Lematización**\n",
        "## **Qué es:**\n",
        "## Consiste en reducir las palabras a su forma base o raíz (lema).\n",
        "## Ejemplo: \"corriendo\", \"corría\", \"corriste\" → \"correr\".\n",
        "\n",
        "## **Para qué sirve:**\n",
        "## Ayuda a agrupar palabras similares para análisis más precisos. Muy útil en análisis de sentimientos, búsqueda de información o resumen automático."
      ],
      "metadata": {
        "id": "lxdjifHCDULf"
      },
      "id": "lxdjifHCDULf"
    },
    {
      "cell_type": "code",
      "source": [
        "# Lematización\n",
        "from nltk.stem import WordNetLemmatizer\n",
        "nltk.download('wordnet')\n",
        "\n",
        "lemmatizer = WordNetLemmatizer()\n",
        "lemmas = [lemmatizer.lemmatize(word) for word in tokens]\n",
        "\n",
        "# Ver los primeros 50 lemas\n",
        "print(lemmas[:100])\n"
      ],
      "metadata": {
        "id": "NmxrIEgpDhNA"
      },
      "id": "NmxrIEgpDhNA",
      "execution_count": null,
      "outputs": []
    },
    {
      "cell_type": "markdown",
      "source": [
        "## **🧹 3. Limpieza **\n",
        "## -STOP_WORDS: quita palabras comunes como \"de\", \"que\", \"en\", \"la\", que no aportan significado útil.\n",
        "\n",
        "## -string.punctuation: elimina signos como .,!?¿...\n",
        "\n",
        "## -isalpha(): se asegura de quedarte solo con palabras (sin números ni símbolos)."
      ],
      "metadata": {
        "id": "wM8XvHidD0xv"
      },
      "id": "wM8XvHidD0xv"
    },
    {
      "cell_type": "code",
      "source": [
        "import spacy\n",
        "from spacy.lang.es.stop_words import STOP_WORDS\n",
        "import string\n",
        "\n",
        "# Cargar modelo\n",
        "nlp = spacy.load(\"es_core_news_sm\")\n",
        "\n",
        "# Suponemos que ya tenés esto:\n",
        "# tokens -> lista de tokens\n",
        "# lemmas -> lista de lemas (usando tokens)\n",
        "\n",
        "# Limpieza de lemas:\n",
        "lemmas_limpios = [\n",
        "    palabra.lower()\n",
        "    for palabra in lemmas\n",
        "    if palabra.lower() not in STOP_WORDS             # eliminar stopwords\n",
        "    and palabra not in string.punctuation             # eliminar puntuación\n",
        "    and palabra.isalpha()                             # solo palabras (no números, etc.)\n",
        "]\n",
        "\n",
        "print(lemmas_limpios[:30])  # Mostrar primeros 30 para chequear\n",
        "\n"
      ],
      "metadata": {
        "id": "qMF8HfJ8EBMu"
      },
      "id": "qMF8HfJ8EBMu",
      "execution_count": null,
      "outputs": []
    },
    {
      "cell_type": "markdown",
      "source": [
        "## **4. POS-tagging (Part-of-Speech Tagging)**\n",
        "## **Qué es:**\n",
        "## Es etiquetar cada palabra con su categoría gramatical: sustantivo, verbo, adjetivo, etc.\n",
        "\n",
        "## **Para qué sirve:**\n",
        "## Permite hacer análisis gramaticales y entender mejor la estructura del texto. Es útil en traducción automática, análisis sintáctico y generación de texto."
      ],
      "metadata": {
        "id": "RuAzMBpMENIe"
      },
      "id": "RuAzMBpMENIe"
    },
    {
      "cell_type": "code",
      "source": [
        "import spacy\n",
        "\n",
        "# Download the model if it's not installed\n",
        "!python -m spacy download es_core_news_sm # This line downloads the model\n",
        "\n",
        "nlp = spacy.load(\"es_core_news_sm\")\n",
        "\n",
        "doc = nlp(libro)\n",
        "\n",
        "# Lemas y POS por palabra\n",
        "for token in doc[:10]:\n",
        "    print(f\"{token.text} →  POS: {token.pos_}\")"
      ],
      "metadata": {
        "id": "XhdMxY9RFbK1"
      },
      "id": "XhdMxY9RFbK1",
      "execution_count": null,
      "outputs": []
    },
    {
      "cell_type": "markdown",
      "source": [
        "## 📌 Contar cuántos verbos, sustantivos, etc. hay:"
      ],
      "metadata": {
        "id": "t575xIstJmRA"
      },
      "id": "t575xIstJmRA"
    },
    {
      "cell_type": "code",
      "source": [
        "from collections import Counter\n",
        "\n",
        "pos_counts = Counter(token.pos_ for token in doc)\n",
        "print(pos_counts)\n"
      ],
      "metadata": {
        "id": "HHTbS_1lJd3B"
      },
      "id": "HHTbS_1lJd3B",
      "execution_count": null,
      "outputs": []
    },
    {
      "cell_type": "markdown",
      "source": [
        "## 📊 Gráfica de los resultados:"
      ],
      "metadata": {
        "id": "1kNBcV1bJsYg"
      },
      "id": "1kNBcV1bJsYg"
    },
    {
      "cell_type": "code",
      "source": [
        "import matplotlib.pyplot as plt\n",
        "\n",
        "labels, values = zip(*pos_counts.items())\n",
        "\n",
        "plt.figure(figsize=(12, 6))\n",
        "bars = plt.bar(labels, values, color='skyblue')\n",
        "plt.title(\"📊 Distribución de Partes del Discurso (POS)\", fontsize=14)\n",
        "plt.xlabel(\"Categoría Gramatical\", fontsize=12)\n",
        "plt.ylabel(\"Frecuencia\", fontsize=12)\n",
        "\n",
        "# Mejoras visuales\n",
        "plt.xticks(rotation=45, ha='right', fontsize=10)\n",
        "plt.tight_layout()  # Ajusta todo para que no se solapen los elementos\n",
        "\n",
        "# Agrega etiquetas de valor sobre las barras si querés\n",
        "for bar in bars:\n",
        "    height = bar.get_height()\n",
        "    plt.text(bar.get_x() + bar.get_width()/2, height + 2, str(height), ha='center', va='bottom', fontsize=9)\n",
        "\n",
        "plt.show()\n"
      ],
      "metadata": {
        "id": "nB3UlWcjJi6I"
      },
      "id": "nB3UlWcjJi6I",
      "execution_count": null,
      "outputs": []
    },
    {
      "cell_type": "markdown",
      "source": [
        "## **5. Reconocimiento de Entidades Nombradas (NER)**\n",
        "## **Qué es:**\n",
        "## Detecta entidades importantes como nombres de personas, lugares, fechas, organizaciones, etc.\n",
        "\n",
        "## **Para qué sirve:**\n",
        "## Es fundamental para tareas como extracción de información, motores de búsqueda inteligentes o asistentes virtuales."
      ],
      "metadata": {
        "id": "3O8TiholEaoG"
      },
      "id": "3O8TiholEaoG"
    },
    {
      "cell_type": "code",
      "source": [
        "# 🧾 5. Named Entity Recognition (NER)\n",
        "entidades = [{\"texto\": ent.text, \"tipo\": ent.label_} for ent in doc.ents]\n",
        "\n",
        "# Mostrar algunas entidades\n",
        "for entidad in entidades[:10]:\n",
        "    print(entidad)\n"
      ],
      "metadata": {
        "id": "W5whDwJdFzVl"
      },
      "id": "W5whDwJdFzVl",
      "execution_count": null,
      "outputs": []
    },
    {
      "cell_type": "markdown",
      "source": [
        "## **6. Palabras más frecuentes**\n",
        "## **Qué es:**\n",
        "## Contar qué palabras aparecen más veces en el texto después de limpiar el contenido.\n",
        "\n",
        "## **Para qué sirve:**\n",
        "## Ayuda a identificar temas principales o patrones en el texto. Es común en análisis exploratorios y visualización de texto."
      ],
      "metadata": {
        "id": "dmfxig0pEoKu"
      },
      "id": "dmfxig0pEoKu"
    },
    {
      "cell_type": "code",
      "source": [
        "# 📊 6. Palabras más frecuentes\n",
        "from collections import Counter\n",
        "\n",
        "frecuencia = Counter(tokens_filtrados).most_common(50)\n",
        "for palabra, freq in frecuencia:\n",
        "    print(f\"{palabra}: {freq}\")"
      ],
      "metadata": {
        "id": "KrZ_3naKF2jV"
      },
      "id": "KrZ_3naKF2jV",
      "execution_count": null,
      "outputs": []
    },
    {
      "cell_type": "markdown",
      "source": [
        "## **7. WordCloud (Nube de Palabras)**\n",
        "## **Qué es:**\n",
        "## Una visualización que muestra las palabras más frecuentes en tamaño proporcional a su frecuencia.\n",
        "\n",
        "## **Para qué sirve:**\n",
        "## Es una forma rápida y visual de entender de qué trata un texto sin leerlo todo."
      ],
      "metadata": {
        "id": "x4hyEMCKE3Pu"
      },
      "id": "x4hyEMCKE3Pu"
    },
    {
      "cell_type": "code",
      "source": [
        "# ☁️ 7. WordCloud\n",
        "from wordcloud import WordCloud\n",
        "import matplotlib.pyplot as plt\n",
        "\n",
        "wordcloud = WordCloud(width=800, height=400, background_color='white').generate(' '.join(lemmas_limpios))\n",
        "plt.figure(figsize=(12, 6))\n",
        "plt.imshow(wordcloud, interpolation='bilinear')\n",
        "plt.axis(\"off\")\n",
        "plt.title(\"Word Cloud del texto\")\n",
        "plt.show()"
      ],
      "metadata": {
        "id": "HpIxD9UyF47d"
      },
      "id": "HpIxD9UyF47d",
      "execution_count": null,
      "outputs": []
    },
    {
      "cell_type": "markdown",
      "source": [
        "## **8. Bigramas / Trigramas (n-gramas)**\n",
        "## **Qué es:**\n",
        "## Son combinaciones de palabras consecutivas.\n",
        "## Ejemplo: bigrama de “Don Quijote cabalgaba” → (“Don”, “Quijote”), (“Quijote”, “cabalgaba”).\n",
        "\n",
        "## **Para qué sirve:**\n",
        "## Permite detectar frases frecuentes y patrones en cómo se usan las palabras juntas. Muy usado en modelado de lenguaje, traducción y detección de estilo."
      ],
      "metadata": {
        "id": "9KfFIpxZFDcv"
      },
      "id": "9KfFIpxZFDcv"
    },
    {
      "cell_type": "code",
      "source": [
        "# 📛 8. Bigramas más frecuentes\n",
        "from collections import Counter\n",
        "\n",
        "# Crear bigramas correctamente (palabras consecutivas)\n",
        "bigrams = list(zip(lemmas_limpios, lemmas_limpios[1:]))\n",
        "\n",
        "# Contar frecuencia de los bigramas\n",
        "bigrams_freq = Counter(bigrams).most_common(10)\n",
        "\n",
        "# Guardar los resultados en una variable\n",
        "bigrams_mas_frecuentes = [{\"bigrama\": bg, \"frecuencia\": freq} for bg, freq in bigrams_freq]\n",
        "\n",
        "# Mostrar los bigramas\n",
        "for item in bigrams_mas_frecuentes:\n",
        "    print(f\"{item['bigrama']}: {item['frecuencia']}\")\n"
      ],
      "metadata": {
        "id": "TTQcWIcAF-Rd"
      },
      "id": "TTQcWIcAF-Rd",
      "execution_count": null,
      "outputs": []
    },
    {
      "cell_type": "markdown",
      "source": [
        "## **🧩 ¿Cómo ver frases completas?**"
      ],
      "metadata": {
        "id": "x3hvgOA-7-dX"
      },
      "id": "x3hvgOA-7-dX"
    },
    {
      "cell_type": "code",
      "source": [
        "import spacy\n",
        "\n",
        "# Cargar el modelo en español\n",
        "nlp = spacy.load(\"es_core_news_sm\")\n",
        "\n",
        "# Procesar el texto completo\n",
        "doc = nlp(libro)\n",
        "\n",
        "# Extraer todas las oraciones\n",
        "oraciones = [sent.text.strip() for sent in doc.sents]\n",
        "\n",
        "# Mostrar las primeras 10 oraciones\n",
        "for i, oracion in enumerate(oraciones[:10]):\n",
        "    print(f\"{i+1}: {oracion}\")\n",
        "\n"
      ],
      "metadata": {
        "id": "bSVjujJm8FpP"
      },
      "id": "bSVjujJm8FpP",
      "execution_count": null,
      "outputs": []
    },
    {
      "cell_type": "markdown",
      "source": [
        "## **1 🧠 Palabras clave de pelea.**\n",
        "\n"
      ],
      "metadata": {
        "id": "UU7UydC19qlK"
      },
      "id": "UU7UydC19qlK"
    },
    {
      "cell_type": "code",
      "source": [
        "palabras_pelea = [\"pelea\", \"golpear\", \"golpeó\", \"puñetazo\", \"disparo\", \"disparó\",\n",
        "                  \"patada\", \"empujó\", \"empujón\", \"estranguló\", \"golpes\", \"agresión\",\n",
        "                  \"violencia\", \"derribó\", \"lucha\", \"forcejeo\", \"combate\"]\n"
      ],
      "metadata": {
        "id": "ew31pOpE9q_v"
      },
      "id": "ew31pOpE9q_v",
      "execution_count": null,
      "outputs": []
    },
    {
      "cell_type": "markdown",
      "source": [
        "## **🔧 Código completo para detectar peleas por capítulo**"
      ],
      "metadata": {
        "id": "oMJoyz9N9z5C"
      },
      "id": "oMJoyz9N9z5C"
    },
    {
      "cell_type": "code",
      "source": [
        "import spacy\n",
        "import matplotlib.pyplot as plt\n",
        "\n",
        "# Cargar modelo de spaCy en español\n",
        "nlp = spacy.load(\"es_core_news_sm\")\n",
        "\n",
        "# Palabras clave\n",
        "palabras_pelea = [\"pelea\", \"golpear\", \"golpeó\", \"puñetazo\", \"disparo\", \"disparó\",\n",
        "                  \"patada\", \"empujó\", \"empujón\", \"estranguló\", \"golpes\", \"agresión\",\n",
        "                  \"violencia\", \"derribó\", \"lucha\", \"forcejeo\", \"combate\"]\n",
        "\n",
        "# Separar por capítulos (suponiendo que empiezan con \"CAPÍTULO\" o número)\n",
        "import re\n",
        "\n",
        "# Divide cuando encuentra un número entero al principio de una línea (capítulo nuevo)\n",
        "capitulos = re.split(r'\\n\\s*\\d+\\s*\\n', libro)\n",
        "capitulos = [c.strip() for c in capitulos if len(c.strip()) > 100]  # eliminamos capítulos vacíos\n",
        "\n",
        "\n",
        "# Guardar cantidad de frases con pelea por capítulo\n",
        "conteo_pelea_por_capitulo = []\n",
        "frases_pelea = []\n",
        "\n",
        "for cap in capitulos:\n",
        "    doc = nlp(cap)\n",
        "    oraciones = [sent.text.strip() for sent in doc.sents]\n",
        "    frases = [frase for frase in oraciones if any(pal in frase.lower() for pal in palabras_pelea)]\n",
        "    frases_pelea.append(frases)  # para verlas después si querés\n",
        "    conteo_pelea_por_capitulo.append(len(frases))\n",
        "\n",
        "# 📊 Graficar\n",
        "plt.figure(figsize=(12, 6))\n",
        "plt.plot(range(1, len(conteo_pelea_por_capitulo)+1), conteo_pelea_por_capitulo, marker='o', color='crimson')\n",
        "plt.title(\"Número de escenas de pelea por capítulo\")\n",
        "plt.xlabel(\"Capítulo\")\n",
        "plt.ylabel(\"Cantidad de escenas con palabras clave\")\n",
        "plt.xticks(range(1, len(conteo_pelea_por_capitulo)+1))\n",
        "plt.grid(True)\n",
        "plt.tight_layout()\n",
        "plt.show()\n"
      ],
      "metadata": {
        "id": "qGQNQSJ_-n9i"
      },
      "id": "qGQNQSJ_-n9i",
      "execution_count": null,
      "outputs": []
    },
    {
      "cell_type": "code",
      "source": [
        "# Mostrar solo capítulos con frases de pelea\n",
        "for i, frases in enumerate(frases_pelea, 1):  # empieza en 1\n",
        "    if frases:  # Solo mostrar si hay frases\n",
        "        print(f\"📘 Capítulo {i}\")\n",
        "        for frase in frases:\n",
        "            print(f\" - {frase}\")\n",
        "        print(\"\\n\" + \"=\"*80 + \"\\n\")"
      ],
      "metadata": {
        "id": "A7vDGFaiA7V-"
      },
      "id": "A7vDGFaiA7V-",
      "execution_count": null,
      "outputs": []
    },
    {
      "cell_type": "markdown",
      "source": [
        "## **2 🧠 Palabras clave de Muertes.**"
      ],
      "metadata": {
        "id": "u8sgwkN3_QkY"
      },
      "id": "u8sgwkN3_QkY"
    },
    {
      "cell_type": "code",
      "source": [
        "# Palabras clave\n",
        "\n",
        "palabras_muertes = [\"el amor\"]"
      ],
      "metadata": {
        "id": "2dvRPv0n_Wn9"
      },
      "id": "2dvRPv0n_Wn9",
      "execution_count": null,
      "outputs": []
    },
    {
      "cell_type": "code",
      "source": [
        "\n",
        "\n",
        "# Guardar cantidad de frases con muerte por capítulo\n",
        "conteo_muertes_por_capitulo = []\n",
        "frases_muerte = []\n",
        "\n",
        "for cap in capitulos:\n",
        "    doc = nlp(cap)\n",
        "    oraciones = [sent.text.strip() for sent in doc.sents]\n",
        "    frases = [frase for frase in oraciones if any(pal in frase.lower() for pal in palabras_muertes)]\n",
        "    frases_muerte.append(frases)  # para verlas después si querés\n",
        "    conteo_muertes_por_capitulo.append(len(frases))\n",
        "\n",
        "# 📊 Graficar\n",
        "plt.figure(figsize=(12, 6))\n",
        "plt.plot(range(1, len(conteo_muertes_por_capitulo)+1), conteo_muertes_por_capitulo, marker='o', color='crimson')\n",
        "plt.title(\"Número de escenas de muerte por capítulo\")\n",
        "plt.xlabel(\"Capítulo\")\n",
        "plt.ylabel(\"Cantidad de escenas con palabras clave\")\n",
        "plt.xticks(range(1, len(conteo_muertes_por_capitulo)+1))\n",
        "plt.grid(True)\n",
        "plt.tight_layout()\n",
        "plt.show()"
      ],
      "metadata": {
        "id": "tYn8Vgrz_jIV"
      },
      "id": "tYn8Vgrz_jIV",
      "execution_count": null,
      "outputs": []
    },
    {
      "cell_type": "code",
      "source": [
        "# Mostrar solo capítulos con frases de pelea\n",
        "for i, frases in enumerate(frases_muerte, 1):  # empieza en 1\n",
        "    if frases:  # Solo mostrar si hay frases\n",
        "        print(f\"📘 Capítulo {i}\")\n",
        "        for frase in frases:\n",
        "            print(f\" - {frase}\")\n",
        "        print(\"\\n\" + \"=\"*80 + \"\\n\")\n"
      ],
      "metadata": {
        "id": "KLghYpzEBrk8"
      },
      "id": "KLghYpzEBrk8",
      "execution_count": null,
      "outputs": []
    },
    {
      "cell_type": "markdown",
      "source": [
        "# **Analisis de Sentimientos por Oración**"
      ],
      "metadata": {
        "id": "17rCa48nCk_Z"
      },
      "id": "17rCa48nCk_Z"
    },
    {
      "cell_type": "markdown",
      "source": [
        "## **✅ Carga del modelo de sentimientos**"
      ],
      "metadata": {
        "id": "HNjIjrD3CyT9"
      },
      "id": "HNjIjrD3CyT9"
    },
    {
      "cell_type": "code",
      "source": [
        "from transformers import pipeline\n",
        "from spacy.lang.es import Spanish\n",
        "\n",
        "# Cargar el modelo de sentimiento en español\n",
        "sentiment_pipeline = pipeline(\"sentiment-analysis\", model=\"nlptown/bert-base-multilingual-uncased-sentiment\")\n",
        "\n",
        "# Cargar el NLP de spaCy para español\n",
        "nlp = Spanish()\n",
        "nlp.add_pipe(\"sentencizer\")  # Solo segmenta en oraciones"
      ],
      "metadata": {
        "id": "0Ecpp47GCr3p"
      },
      "id": "0Ecpp47GCr3p",
      "execution_count": null,
      "outputs": []
    },
    {
      "cell_type": "markdown",
      "source": [
        "## **✅ Paso 4: Analizar sentimientos por oración**\n"
      ],
      "metadata": {
        "id": "rCdISZN7D3pD"
      },
      "id": "rCdISZN7D3pD"
    },
    {
      "cell_type": "code",
      "source": [
        "sentimientos_por_capitulo = []\n",
        "\n",
        "for oraciones in oraciones:\n",
        "    sentimientos = []\n",
        "    for oracion in oraciones:\n",
        "        try:\n",
        "            result = sentiment_pipeline(oracion[:512])  # límite de tokens\n",
        "            sentimientos.append({\n",
        "                'oracion': oracion,\n",
        "                'sentimiento': result[0]['label'],\n",
        "                'score': result[0]['score']\n",
        "            })\n",
        "        except Exception as e:\n",
        "            print(f\"Error con oración: {oracion}\\n{e}\")\n",
        "    sentimientos_por_capitulo.append(sentimientos)\n"
      ],
      "metadata": {
        "id": "TQOxPmEDDF_1"
      },
      "id": "TQOxPmEDDF_1",
      "execution_count": null,
      "outputs": []
    },
    {
      "cell_type": "markdown",
      "source": [
        "## **✅  Ver resultados**\n"
      ],
      "metadata": {
        "id": "gm0_7N7jEKQ2"
      },
      "id": "gm0_7N7jEKQ2"
    },
    {
      "cell_type": "code",
      "source": [
        "for i, cap in enumerate(sentimientos_por_capitulo, 1):\n",
        "    print(f\"📘 Capítulo {i}\")\n",
        "    for s in cap[:5]:  # Las primeras 5 oraciones\n",
        "        print(f\"{s['oracion']} → {s['sentimiento']} ({s['score']:.2f})\")\n",
        "    print(\"\\n\" + \"=\"*80 + \"\\n\")\n"
      ],
      "metadata": {
        "id": "xoA_BThPEH3Q"
      },
      "id": "xoA_BThPEH3Q",
      "execution_count": null,
      "outputs": []
    },
    {
      "cell_type": "markdown",
      "source": [
        "#///////////////////////////////"
      ],
      "metadata": {
        "id": "WM83mUCbGCf2"
      },
      "id": "WM83mUCbGCf2"
    },
    {
      "cell_type": "code",
      "source": [],
      "metadata": {
        "id": "Zsvhqb1L4LUm"
      },
      "id": "Zsvhqb1L4LUm",
      "execution_count": null,
      "outputs": []
    },
    {
      "cell_type": "code",
      "source": [
        "import seaborn as sns\n",
        "import pandas as pd\n",
        "\n",
        "palabras_df = pd.DataFrame(frecuencia, columns=['palabra', 'frecuencia'])\n",
        "sns.barplot(data=palabras_df, x='frecuencia', y='palabra')\n",
        "plt.title(\"Top 10 palabras más frecuentes\")\n",
        "plt.xlabel(\"Frecuencia\")\n",
        "plt.ylabel(\"Palabra\")\n",
        "plt.show()"
      ],
      "metadata": {
        "id": "wXmJS9e8p4Zt"
      },
      "id": "wXmJS9e8p4Zt",
      "execution_count": null,
      "outputs": []
    },
    {
      "cell_type": "code",
      "source": [
        "ents = [ent.text for ent in doc.ents if ent.label_ in ['PER', 'LOC', 'ORG']]\n",
        "ent_freq = Counter(ents).most_common(10)\n",
        "pd.DataFrame(ent_freq, columns=[\"Entidad\", \"Frecuencia\"]).plot.bar(x='Entidad', y='Frecuencia', legend=False)\n",
        "plt.title(\"Entidades nombradas más frecuentes\")\n",
        "plt.ylabel(\"Frecuencia\")\n",
        "plt.show()"
      ],
      "metadata": {
        "id": "YgUdLNePqIYN"
      },
      "id": "YgUdLNePqIYN",
      "execution_count": null,
      "outputs": []
    },
    {
      "cell_type": "code",
      "source": [
        "from collections import Counter\n",
        "pos_counts = Counter([token.pos_ for token in doc if token.is_alpha])\n",
        "sns.barplot(x=list(pos_counts.keys()), y=list(pos_counts.values()))\n",
        "plt.title(\"Distribución de categorías gramaticales\")\n",
        "plt.xlabel(\"POS\")\n",
        "plt.ylabel(\"Cantidad\")\n",
        "plt.show()\n"
      ],
      "metadata": {
        "id": "zW9p1JGOqQDO"
      },
      "id": "zW9p1JGOqQDO",
      "execution_count": null,
      "outputs": []
    },
    {
      "cell_type": "code",
      "source": [
        "import networkx as nx\n",
        "\n",
        "G = nx.Graph()\n",
        "for (w1, w2), freq in bigrams_freq:\n",
        "    G.add_edge(w1, w2, weight=freq)\n",
        "\n",
        "plt.figure(figsize=(10,6))\n",
        "nx.draw_networkx(G, with_labels=True, node_size=1500, font_size=10)\n",
        "plt.title(\"Bigramas más frecuentes\")\n",
        "plt.show()\n",
        "\n",
        "\n"
      ],
      "metadata": {
        "id": "HbGTdMf0qx62"
      },
      "id": "HbGTdMf0qx62",
      "execution_count": null,
      "outputs": []
    },
    {
      "cell_type": "code",
      "source": [
        "from textblob import TextBlob\n",
        "\n",
        "# Assuming 'tokens_limpios' from previous cell contains the processed text\n",
        "texto_procesado = ' '.join(tokens_filtrados)  # Join the tokens into a string\n",
        "\n",
        "# Análisis de sentimientos por párrafo o línea\n",
        "sentimientos = []\n",
        "for frase in texto_procesado.split('\\n'):\n",
        "    blob = TextBlob(frase)\n",
        "    sentimientos.append((frase, blob.sentiment.polarity))\n",
        "\n",
        "# Mostrar las frases más positivas y más negativas\n",
        "sentimientos_ordenados = sorted(sentimientos, key=lambda x: x[1])\n",
        "print(\"Frase más negativa:\\n\", sentimientos_ordenados[0])\n",
        "print(\"\\nFrase más positiva:\\n\", sentimientos_ordenados[-1])\n"
      ],
      "metadata": {
        "id": "4lJgx5YtrfLM"
      },
      "id": "4lJgx5YtrfLM",
      "execution_count": null,
      "outputs": []
    },
    {
      "cell_type": "code",
      "source": [
        "\n",
        "from nltk.sentiment import SentimentIntensityAnalyzer\n",
        "import nltk\n",
        "nltk.download('vader_lexicon')\n",
        "\n",
        "sia = SentimentIntensityAnalyzer()\n",
        "\n",
        "sentimientos = []\n",
        "for frase in texto_procesado.split('\\n'):\n",
        "    score = sia.polarity_scores(frase)['compound']\n",
        "    sentimientos.append((frase, score))\n",
        "\n",
        "# Frases con sentimiento más marcado\n",
        "sentimientos_ordenados = sorted(sentimientos, key=lambda x: x[1])\n",
        "print(\"Frase más negativa:\\n\", sentimientos_ordenados[0])\n",
        "print(\"\\nFrase más positiva:\\n\", sentimientos_ordenados[-1])\n"
      ],
      "metadata": {
        "id": "PXIYU6y3r7HO"
      },
      "id": "PXIYU6y3r7HO",
      "execution_count": null,
      "outputs": []
    },
    {
      "cell_type": "code",
      "source": [
        "import matplotlib.pyplot as plt\n",
        "\n",
        "polaridades = [s[1] for s in sentimientos]\n",
        "plt.figure(figsize=(12, 4))\n",
        "plt.plot(polaridades)\n",
        "plt.title(\"Evolución del sentimiento a lo largo del texto\")\n",
        "plt.xlabel(\"Línea del texto\")\n",
        "plt.ylabel(\"Polaridad (-1 a 1)\")\n",
        "plt.show()\n"
      ],
      "metadata": {
        "id": "ipn8AB--sDBh"
      },
      "id": "ipn8AB--sDBh",
      "execution_count": null,
      "outputs": []
    },
    {
      "cell_type": "code",
      "source": [
        "pip install transformers torch\n"
      ],
      "metadata": {
        "id": "uAXgNCvUsGS5"
      },
      "id": "uAXgNCvUsGS5",
      "execution_count": null,
      "outputs": []
    },
    {
      "source": [
        "import re\n",
        "from transformers import pipelinefrom collections import Counter\n",
        "import matplotlib.pyplot as plt\n",
        "from sumy.parsers.plaintext import PlaintextParser\n",
        "from sumy.nlp.tokenizers import Tokenizer\n",
        "from sumy.summarizers.lsa import LsaSummarizer\n",
        "\n",
        "# --- 1. Separar el libro por capítulos ---\n",
        "def separar_capitulos(texto):\n",
        "    # Suponemos que los capítulos empiezan con \"Capítulo\", \"CAPÍTULO\", o un número solo\n",
        "    caps = re.split(r'\\bCap[ií]tulo\\s+\\d+\\b', texto, flags=re.IGNORECASE)\n",
        "    capitulos = [cap.strip() for cap in caps if len(cap.strip()) > 200]  # filtramos los vacíos\n",
        "    return capitulos\n",
        "\n",
        "capitulos = separar_capitulos(libro)\n",
        "print(f\"Cantidad de capítulos encontrados: {len(capitulos)}\")\n",
        "\n",
        "# --- 2. Resumen por capítulo ---\n",
        "def resumir_texto(texto, num_oraciones=3):\n",
        "    parser = PlaintextParser.from_string(texto, Tokenizer(\"spanish\"))\n",
        "    summarizer = LsaSummarizer()\n",
        "    resumen = summarizer(parser.document, num_oraciones)\n",
        "    return \" \".join(str(oracion) for oracion in resumen)\n",
        "\n",
        "resumenes = [resumir_texto(cap) for cap in capitulos]\n",
        "\n",
        "# --- 3. Sentimiento por capítulo ---\n",
        "sentimientos = []\n",
        "for cap in capitulos:\n",
        "    polaridad, subjetividad = pattern_sentiment(cap) # pattern_sentiment is used\n",
        "    sentimientos.append(polaridad)\n",
        "\n",
        "# --- 4. Buscar menciones de peleas ---\n",
        "palabras_pelea = [\"golpe\", \"disparo\", \"pelea\", \"lucha\", \"patada\", \"puñetazo\", \"forcejeo\"]\n",
        "conteo_pelea = []\n",
        "\n",
        "for cap in capitulos:\n",
        "    texto_min = cap.lower()\n",
        "    count = sum(texto_min.count(p) for p in palabras_pelea)\n",
        "    conteo_pelea.append(count)\n",
        "\n",
        "# --- 5. Gráfico de sentimientos y peleas ---\n",
        "plt.figure(figsize=(12, 5))\n",
        "\n",
        "plt.subplot(1, 2, 1)\n",
        "plt.plot(sentimientos, marker='o', color='blue')\n",
        "plt.title(\"Sentimiento por capítulo (polaridad)\")\n",
        "plt.xlabel(\"Capítulo\")\n",
        "plt.ylabel(\"Polaridad (más positivo → más alto)\")\n",
        "plt.grid(True)\n",
        "\n",
        "plt.subplot(1, 2, 2)\n",
        "plt.bar(range(len(conteo_pelea)), conteo_pelea, color='red')\n",
        "plt.title(\"Cantidad de peleas por capítulo\")\n",
        "plt.xlabel(\"Capítulo\")\n",
        "plt.ylabel(\"Menciones relacionadas a pelea\")\n",
        "plt.grid(True)\n",
        "\n",
        "plt.tight_layout()\n",
        "plt.show()"
      ],
      "cell_type": "code",
      "metadata": {
        "id": "2jlcn2nErRn3"
      },
      "id": "2jlcn2nErRn3",
      "execution_count": null,
      "outputs": []
    },
    {
      "cell_type": "code",
      "source": [
        "import spacy\n",
        "from collections import Counter\n",
        "import re\n",
        "import string\n",
        "from sklearn.cluster import KMeans\n",
        "import numpy as np\n",
        "import matplotlib.pyplot as plt\n",
        "from sklearn.feature_extraction.text import TfidfVectorizer\n",
        "from textblob import TextBlob\n",
        "from sklearn.decomposition import PCA\n",
        "\n",
        "# Cargar modelo en español\n",
        "nlp = spacy.load(\"es_core_news_sm\")\n",
        "\n",
        "# Cargar tu texto (puedes modificar para cargar un archivo .txt)\n",
        "with open(\"libro.txt\", \"r\", encoding=\"utf-8\") as file:\n",
        "    texto = file.read()\n",
        "\n",
        "# Preprocesamiento: pasar a minúsculas y quitar saltos de línea\n",
        "texto = texto.lower().replace('\\n', ' ')\n",
        "\n",
        "# Procesar el texto con SpaCy\n",
        "doc = nlp(texto)\n",
        "\n",
        "# 1️⃣ Tokenización, Limpieza y Lematización\n",
        "tokens = [token.text for token in doc if token.is_alpha and not token.is_stop]\n",
        "lemmas = [token.lemma_ for token in doc if token.is_alpha and not token.is_stop]\n",
        "\n",
        "# 2️⃣ POS-tagging\n",
        "pos_tags = [(token.text, token.pos_) for token in doc if token.is_alpha and not token.is_stop]\n",
        "\n",
        "# 3️⃣ Bigramas más frecuentes\n",
        "bigrams = list(zip(lemmas, lemmas[1:]))  # o usar tokens si preferís sin lematizar\n",
        "bigrams_freq = Counter(bigrams).most_common(10)\n",
        "\n",
        "# Imprimir resultados de POS-tagging y bigramas\n",
        "print(\"🔠 Tokens limpiados:\", tokens[:10])\n",
        "print(\"\\n🌱 Lemmas:\", lemmas[:10])\n",
        "print(\"\\n🧾 POS-tagging:\", pos_tags[:10])\n",
        "print(\"\\n📛 Bigramas más frecuentes:\", bigrams_freq)\n",
        "\n",
        "# 4️⃣ Resumen por Capítulos\n",
        "def separar_capitulos(texto):\n",
        "    capitulos = re.split(r'\\n\\d+\\n', texto)  # Asume que los capítulos empiezan con el número en una línea sola\n",
        "    return capitulos\n",
        "\n",
        "capitulos = separar_capitulos(texto)\n",
        "\n",
        "# Resumir cada capítulo (usando TextBlob o alguna librería de resumen)\n",
        "def resumen_capitulo(texto):\n",
        "    blob = TextBlob(texto)\n",
        "    return blob.sentences[:3]  # Resumir las primeras 3 oraciones del capítulo\n",
        "\n",
        "resumenes = [resumen_capitulo(capitulo) for capitulo in capitulos]\n",
        "\n",
        "# Imprimir los resúmenes de los primeros 3 capítulos\n",
        "for i, resumen in enumerate(resumenes[:3]):\n",
        "    print(f\"\\n📘 Resumen del Capítulo {i+1}:\")\n",
        "    for oracion in resumen:\n",
        "        print(f\" - {oracion}\")\n",
        "\n",
        "# 5️⃣ Análisis de Sentimientos por Capítulo\n",
        "def analisis_sentimientos(texto):\n",
        "    blob = TextBlob(texto)\n",
        "    return blob.sentiment.polarity  # Retorna el valor de polaridad (positivo/negativo)\n",
        "\n",
        "sentimientos = [analisis_sentimientos(capitulo) for capitulo in capitulos]\n",
        "\n",
        "# 6️⃣ Clustering de Capítulos\n",
        "# Vectorizar el texto con TF-IDF\n",
        "vectorizer = TfidfVectorizer(stop_words='spanish')\n",
        "X = vectorizer.fit_transform(capitulos)\n",
        "\n",
        "# Aplicar KMeans para hacer clustering de capítulos\n",
        "kmeans = KMeans(n_clusters=5)  # Dividir en 5 clusters (ajustar según el libro)\n",
        "kmeans.fit(X)\n",
        "\n",
        "# Obtener las etiquetas de cada capítulo\n",
        "etiquetas = kmeans.labels_\n",
        "\n",
        "# Visualización de Clustering en 2D (usando PCA)\n",
        "pca = PCA(n_components=2)\n",
        "X_reducido = pca.fit_transform(X.toarray())\n",
        "\n",
        "plt.figure(figsize=(10, 6))\n",
        "plt.scatter(X_reducido[:, 0], X_reducido[:, 1], c=etiquetas, cmap='viridis')\n",
        "plt.title('Clustering de Capítulos del Libro')\n",
        "plt.xlabel('Componente Principal 1')\n",
        "plt.ylabel('Componente Principal 2')\n",
        "plt.colorbar(label='Cluster')\n",
        "plt.show()\n",
        "\n",
        "# Mostrar los capítulos asignados a cada cluster\n",
        "for cluster in range(5):\n",
        "    print(f\"\\nCapítulos en el Cluster {cluster}:\")\n",
        "    for i, label in enumerate(etiquetas):\n",
        "        if label == cluster:\n",
        "            print(f\" - Capítulo {i+1}\")\n"
      ],
      "metadata": {
        "id": "Apgl8niyOgTv"
      },
      "id": "Apgl8niyOgTv",
      "execution_count": null,
      "outputs": []
    }
  ],
  "metadata": {
    "colab": {
      "provenance": [],
      "include_colab_link": true
    },
    "language_info": {
      "name": "python"
    },
    "kernelspec": {
      "name": "python3",
      "display_name": "Python 3"
    }
  },
  "nbformat": 4,
  "nbformat_minor": 5
}